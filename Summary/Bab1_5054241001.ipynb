{
  "cells": [
    {
      "cell_type": "markdown",
      "metadata": {
        "id": "nY103Ahjio2Y"
      },
      "source": [
        "**BAB 1: ARRAY DAN LIST**\n",
        "\n",
        "---\n",
        "\n",
        "### 1.1 Pengantar\n",
        "\n",
        "Array dan list merupakan struktur data dasar yang menyimpan sekumpulan elemen. Keduanya memungkinkan akses data secara terorganisir, dan digunakan secara luas dalam pemrograman, termasuk dalam penerapan kecerdasan artifisial.\n",
        "\n",
        "Python tidak memiliki tipe data array secara default seperti bahasa C atau Java, namun Python menyediakan list yang fleksibel. Untuk array yang lebih mirip dengan C-style, dapat menggunakan modul `array` atau `numpy.array`.\n",
        "\n",
        "---\n",
        "\n",
        "### 1.2 Array\n",
        "\n",
        "#### 1.2.1 Definisi\n",
        "\n",
        "Array adalah struktur data yang menyimpan elemen-elemen dengan tipe data yang sama dalam lokasi memori yang bersebelahan.\n",
        "\n",
        "#### 1.2.2 Operasi Dasar Array\n",
        "\n",
        "- Inisialisasi\n",
        "- Akses Elemen\n",
        "- Modifikasi Elemen\n",
        "- Iterasi\n",
        "\n",
        "#### 1.2.3 Contoh Implementasi\n",
        "\n",
        "```python\n",
        "# Menggunakan modul array\n",
        "import array as arr\n",
        "\n",
        "angka = arr.array('i', [1, 2, 3, 4, 5])\n",
        "print(angka[2])  # Output: 3\n",
        "angka[2] = 10\n",
        "print(angka)  # Output: array('i', [1, 2, 10, 4, 5])\n",
        "```\n",
        "\n",
        "#### 1.2.4 Kelebihan dan Kekurangan\n",
        "\n",
        "- Kelebihan: Akses elemen sangat cepat (O(1)).\n",
        "- Kekurangan: Ukuran tetap, tidak fleksibel.\n",
        "\n",
        "---\n",
        "\n",
        "### 1.3 List\n",
        "\n",
        "#### 1.3.1 Definisi\n",
        "\n",
        "List di Python adalah struktur data serbaguna yang dapat menyimpan elemen dengan berbagai tipe data.\n",
        "\n",
        "#### 1.3.2 Operasi Dasar List\n",
        "\n",
        "- Inisialisasi\n",
        "- Penambahan Elemen (`append`, `insert`)\n",
        "- Penghapusan Elemen (`remove`, `pop`)\n",
        "- Iterasi dan Pencarian\n",
        "\n",
        "#### 1.3.3 Contoh Implementasi\n",
        "\n",
        "```python\n",
        "buah = [\"apel\", \"jeruk\", \"mangga\"]\n",
        "buah.append(\"pisang\")\n",
        "print(buah)\n",
        "\n",
        "buah.remove(\"jeruk\")\n",
        "print(buah)\n",
        "```\n",
        "\n",
        "#### 1.3.4 Kelebihan dan Kekurangan\n",
        "\n",
        "- Kelebihan: Dinamis, fleksibel.\n",
        "- Kekurangan: Akses elemen bisa lebih lambat dibanding array jika ukuran sangat besar.\n",
        "\n",
        "---\n",
        "\n",
        "### 1.4 Perbandingan Array vs List\n",
        "\n",
        "| Fitur          | Array            | List                                  |\n",
        "| -------------- | ---------------- | ------------------------------------- |\n",
        "| Tipe Data      | Harus sama       | Bisa campuran                         |\n",
        "| Ukuran         | Tetap            | Dinamis                               |\n",
        "| Performa Akses | Cepat (O(1))     | Cepat, tapi bisa sedikit lebih lambat |\n",
        "| Modul          | `array`, `numpy` | Bawaan Python                         |\n",
        "\n",
        "---\n",
        "\n",
        "### 1.5 Studi Kasus AI: Representasi Data Citra\n",
        "\n",
        "Dalam pengolahan citra digital, gambar direpresentasikan sebagai array dua dimensi (untuk citra grayscale) atau tiga dimensi (untuk citra RGB). Penggunaan array atau list membantu dalam manipulasi data piksel.\n",
        "\n",
        "Contoh:\n",
        "\n",
        "```python\n",
        "# Representasi citra grayscale 3x3\n",
        "citra = [\n",
        "    [255, 0, 255],\n",
        "    [128, 128, 128],\n",
        "    [0, 0, 255]\n",
        "]\n",
        "\n",
        "# Akses piksel tengah\n",
        "print(\"Nilai piksel tengah:\", citra[1][1])\n",
        "```\n",
        "\n",
        "---\n",
        "\n",
        "### 1.6 Latihan\n",
        "\n",
        "1. Buatlah array berisi 10 angka genap pertama, kemudian hitung jumlah seluruh elemennya.\n",
        "2. Buatlah list yang berisi data nama mahasiswa, kemudian tambahkan dan hapus nama dari list tersebut.\n",
        "3. Buat representasi array 2D dari matriks 3x3 dan tulis program untuk menjumlahkan semua elemen diagonal utama.\n",
        "\n",
        "---\n",
        "\n",
        "### 1.7 Kesimpulan\n",
        "\n",
        "Array dan list adalah struktur data dasar namun sangat penting, terutama sebagai fondasi dalam pemrosesan data numerik dan simbolik. Pemahaman yang kuat terhadap struktur ini menjadi kunci dalam pengembangan aplikasi AI yang efisien.\n",
        "\n",
        "\n",
        "\n"
      ]
    },
    {
      "cell_type": "markdown",
      "metadata": {
        "id": "sqTsiI5pjRHM"
      },
      "source": [
        "\n",
        "---\n",
        "---\n",
        "\n",
        "**Kerjakan Soal Latihan pada 1.6**\n",
        "\n",
        "Tuliskan kode program dan tampilkan outputnya (running)\n",
        "\n",
        "Kemudian simpan file ini dengan format nama **Bab1_NRP.ipynb**\n",
        "\n",
        "Upload di MyITS classroom"
      ]
    },
    {
      "cell_type": "markdown",
      "metadata": {},
      "source": [
        "Buatlah array berisi 10 angka genap pertama, kemudian hitung jumlah seluruh elemennya."
      ]
    },
    {
      "cell_type": "code",
      "execution_count": null,
      "metadata": {},
      "outputs": [],
      "source": [
        "import array\n",
        "import random\n",
        "\n",
        "arr = array.array([for i in range(2, 21)])\n",
        "print(\"Panjang array:\", len(arr))"
      ]
    },
    {
      "cell_type": "markdown",
      "metadata": {},
      "source": [
        "Buatlah list yang berisi data nama mahasiswa, kemudian tambahkan dan hapus nama dari list tersebut."
      ]
    },
    {
      "cell_type": "code",
      "execution_count": null,
      "metadata": {
        "id": "0hubt2lri0kX"
      },
      "outputs": [],
      "source": [
        "mahasiswa = [\"John\", \"Alice\", \"Bob\", \"Charlie\", \"David\", \"Emma\", \"Frank\", \"Grace\", \"Harry\", \"Ivy\"]\n",
        "mahasiswa.append(\"Jane\")\n",
        "print(\"List mahasiswa sebelum dihapus:\", mahasiswa)\n",
        "mahasiswa.remove(\"Alice\")\n",
        "print(\"List mahasiswa setelah dihapus:\", mahasiswa)"
      ]
    },
    {
      "cell_type": "markdown",
      "metadata": {},
      "source": [
        "Buat representasi array 2D dari matriks 3x3 dan tulis program untuk menjumlahkan semua elemen diagonal utama."
      ]
    },
    {
      "cell_type": "code",
      "execution_count": null,
      "metadata": {},
      "outputs": [],
      "source": [
        "matriks = array.array([[random.randint(1, 100) for _ in range(3)] for _ in range(3)])\n",
        "print(\"Total diagonal utama:\", sum(matriks[i][i] for i in range(3)))"
      ]
    }
  ],
  "metadata": {
    "colab": {
      "provenance": []
    },
    "kernelspec": {
      "display_name": "Python 3",
      "name": "python3"
    },
    "language_info": {
      "name": "python"
    }
  },
  "nbformat": 4,
  "nbformat_minor": 0
}
